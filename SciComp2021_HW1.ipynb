{
  "nbformat": 4,
  "nbformat_minor": 0,
  "metadata": {
    "kernelspec": {
      "display_name": "Python 3",
      "language": "python",
      "name": "python3"
    },
    "language_info": {
      "codemirror_mode": {
        "name": "ipython",
        "version": 3
      },
      "file_extension": ".py",
      "mimetype": "text/x-python",
      "name": "python",
      "nbconvert_exporter": "python",
      "pygments_lexer": "ipython3",
      "version": "3.7.3"
    },
    "colab": {
      "name": "SciComp2021_HW1.ipynb",
      "provenance": [],
      "collapsed_sections": [],
      "include_colab_link": true
    }
  },
  "cells": [
    {
      "cell_type": "markdown",
      "metadata": {
        "id": "view-in-github",
        "colab_type": "text"
      },
      "source": [
        "<a href=\"https://colab.research.google.com/github/annykay/scientificComputations/blob/main/SciComp2021_HW1.ipynb\" target=\"_parent\"><img src=\"https://colab.research.google.com/assets/colab-badge.svg\" alt=\"Open In Colab\"/></a>"
      ]
    },
    {
      "cell_type": "markdown",
      "metadata": {
        "id": "O5DIRljFBbll"
      },
      "source": [
        "## Scientific Computing 2021: Homework Assignment 1 \n",
        "Due Monday October 11, 2021, 23:59\n",
        "\n",
        "### Problem 1 (2 points)\n",
        "Under assumptions of Amdahl's law, suppose that 75% of a program are perfectly parallelizable, and the rest is not parallelizable. \n",
        "1. What is the maximum speedup achievable by parallelization? \n",
        "2. Suppose that we have obtained speedup 2 (by using a suitable number of processes). What is the efficiency of this parallelization? \n",
        "\n",
        "### Problem 2 (2 points)\n",
        "Write a Python or C/C++ program that uses **MPI reduce** to find the largest file in terms of the  number of lines among all .txt files in the working directory (only .txt files should be examined). The program must be callable in the form `mpirun -np <N> python linecount.py` (in the case of the Python version) or `mpirun -np <N> linecount.exe` (the C/C++ version), where `<N>` is the user-defined number of processes. The program is expected to first somehow distribute the files found in the current directory to the processes, then each process should count the lines in the files assigned to it, and finally the result should be MPI-reduced and printed out. The program only needs to output the number of lines in the largest file; no need to output the name of this file. The program must work correctly even if the number of files is not divisible by the number of processes.\n",
        "\n",
        "### Problem 3 (2 points)\n",
        "Solve the Distinct Substrings problem at Sphere online judge: http://www.spoj.com/problems/DISUBSTR/. Provide code passing the test of the judge. Explain how your code works and theoretically estimate the complexity of the algorithm (as $O(f(N))$, where $f(N)$ is some function of the length of the input string). \n",
        "\n",
        "### Problem 4 (2 points)\n",
        "Suppose that we want to distribute $N$ personal projects to $N$ students. Assume that each student $(k)_{k=0}^{N-1}$ has a list of his/her preferences for the projects, expressed as a vector $\\mathbf r_k$ of integer ranks assigned to each project. Ranks vary between 0 and $N-1$ without repetitions, the **lower** the rank the **more preferable** the project. (For example, the first student's ranks are $\\mathbf r_0 = [2,1,0]$, the second's $\\mathbf r_1 = [0,2,1]$ and the third $\\mathbf r_2 = [0,1,2]$). We want to distribute the projects so as to maximize the total preference, i.e., if $n_k$ denotes the project assigned to the $k$'th student, we want to make $f = \\sum_{k=0}^{N-1} \\mathbf r_k[n_k]$ as small as possible. (In the example above the optimal distribution is $n_0=2, n_1=0, n_2=1$, which gives $f=1$).  \n",
        "  * Come up with an algorithm optimizing the distribution and implement it in a Python or C/C++ program. The algorithm should accept the preference vectors and output a recommended distribution $(n_k)_{k=1}^N$. The algorithm need not find the best solution, but is expected to generally produce better solutions than would have been obtained by randomly distributing the projects. The algorithm should be reasonably fast, say run in not more than a few seconds for $N=30$. \n",
        "  * Compare experimentally your algorithm with the trivial algorithm producing a random distribution. To this end, perform $M=1000$ experiments in each of which 1) random preference vectors for $N=30$ students and projects are generated; 2) the objective function $f$ is evaluated for both algorithms. After finishing all the experiments, plot the two respective distributions of the obtained $M$ values of $f$ and compute the mean values of $f$ for both algorithms. \n",
        "  \n",
        "### Problem 5 (2 points)\n",
        "Suppose that we have developed an algorithm that is supposed to generate independent (quasi-)random numbers uniformly distributed in the interval $[0,1]$. To test our algorithm, we perform a series of experiments. In each experiment, we generate $N=10^3$ numbers $(x_n)_{n=1}^N$ with our algorithm, and compute the minimum distance $r=\\min_{1 \\le n < m\\le N}|x_n-x_m|$ between them. We observe that in more than 99% of such experiments we obtain $r < 10^{-5}$. Does this observation contradict the hypothesis of generating independent uniformly distributed random numbers? Explain your answer."
      ]
    },
    {
      "cell_type": "markdown",
      "metadata": {
        "id": "i8UIOgNEmLN_"
      },
      "source": [
        "Task 1 \n",
        "\n",
        "1) 20 times\n",
        "0.75 % of parallelization, speedup = 1/(1-0.75) = 4\n",
        "\n",
        "2) speedup = $\\frac{1}{(\\alpha + \\frac{1 - \\alpha}{p})}$\n",
        "\n",
        "speedup = 2;\n",
        "\n",
        "$\\alpha = 0.75$ \n",
        "\n",
        "=> p = 3\n",
        "\n",
        "efficacy = 2/3\n",
        "\n",
        "Task 2 \n",
        "\n"
      ]
    },
    {
      "cell_type": "code",
      "metadata": {
        "id": "AuisnTcflu0d"
      },
      "source": [
        "import glob\n",
        "\n",
        "# 1. list all text files in the directory\n",
        "rel_filepaths = glob.glob(\"*.txt\")\n",
        "\n",
        "# 2. (optional) create a function to read the number of rows in a file\n",
        "def count_rows_one(filepath):\n",
        "  res = 0\n",
        "  f = open(filepath, 'r')\n",
        "  res = len(f.readlines())\n",
        "  f.close()\n",
        "\n",
        "  return res\n",
        "\n",
        "def count_rows(filepaths):\n",
        "  res = 0\n",
        "  ress = []\n",
        "  for filepath in filepaths:\n",
        "    f = open(filepath, 'r')\n",
        "    res = len(f.readlines())\n",
        "    ress.append(res)\n",
        "    f.close()\n",
        "\n"
      ],
      "execution_count": 31,
      "outputs": []
    },
    {
      "cell_type": "code",
      "metadata": {
        "colab": {
          "base_uri": "https://localhost:8080/"
        },
        "id": "E_QLru31Bh7V",
        "outputId": "9e79fbd7-68fb-4a9c-b6c2-4538107d1d9d"
      },
      "source": [
        "len(rel_filepaths)"
      ],
      "execution_count": null,
      "outputs": [
        {
          "output_type": "execute_result",
          "data": {
            "text/plain": [
              "2"
            ]
          },
          "metadata": {},
          "execution_count": 7
        }
      ]
    },
    {
      "cell_type": "code",
      "metadata": {
        "colab": {
          "base_uri": "https://localhost:8080/"
        },
        "id": "fAGWaFMMFV52",
        "outputId": "251225ea-517a-4a6d-c156-8004fd9978ad"
      },
      "source": [
        "!pip install mpi4py"
      ],
      "execution_count": 1,
      "outputs": [
        {
          "output_type": "stream",
          "name": "stdout",
          "text": [
            "Collecting mpi4py\n",
            "  Downloading mpi4py-3.1.1.tar.gz (2.4 MB)\n",
            "\u001b[K     |████████████████████████████████| 2.4 MB 5.0 MB/s \n",
            "\u001b[?25h  Installing build dependencies ... \u001b[?25l\u001b[?25hdone\n",
            "  Getting requirements to build wheel ... \u001b[?25l\u001b[?25hdone\n",
            "    Preparing wheel metadata ... \u001b[?25l\u001b[?25hdone\n",
            "Building wheels for collected packages: mpi4py\n",
            "  Building wheel for mpi4py (PEP 517) ... \u001b[?25l\u001b[?25hdone\n",
            "  Created wheel for mpi4py: filename=mpi4py-3.1.1-cp37-cp37m-linux_x86_64.whl size=2180584 sha256=d79bfa26fd479411c18287423b565700096e04e71ab8d343abbb9b20d3240fdb\n",
            "  Stored in directory: /root/.cache/pip/wheels/91/be/c0/2b0347be1de5cd8ca9fe67da7ec8c3fe8930fcb6b0df6f2255\n",
            "Successfully built mpi4py\n",
            "Installing collected packages: mpi4py\n",
            "Successfully installed mpi4py-3.1.1\n"
          ]
        }
      ]
    },
    {
      "cell_type": "code",
      "metadata": {
        "colab": {
          "base_uri": "https://localhost:8080/"
        },
        "id": "K2jI0aV-GICr",
        "outputId": "c6d0f303-60df-4740-db2b-46740cf1f7fc"
      },
      "source": [
        "!mpirun --allow-run-as-root -n 7 python prog.py "
      ],
      "execution_count": 37,
      "outputs": [
        {
          "output_type": "stream",
          "name": "stdout",
          "text": [
            "Max size: 67\n"
          ]
        }
      ]
    },
    {
      "cell_type": "code",
      "metadata": {
        "colab": {
          "base_uri": "https://localhost:8080/"
        },
        "id": "U2kPchXUDxHW",
        "outputId": "9b4933ac-16b1-4376-d235-d6513f480e64"
      },
      "source": [
        "import numpy as np\n",
        "\n",
        "def invPerm(p):\n",
        "    '''Invert the permutation p'''\n",
        "    s = np.empty(p.size, p.dtype)\n",
        "    s[p] = np.arange(p.size)\n",
        "    return s\n",
        "\n",
        "\n",
        "def getSA(A):\n",
        "    if not type(A) is np.ndarray:\n",
        "        A = np.array(list(A))\n",
        "    N = len(A) \n",
        "    M = int(np.ceil(np.log2(N)))+1   # number of iterations\n",
        "    \n",
        "    # auxiliary arrays; row m stores results after m'th step:\n",
        "    \n",
        "    # positions of sorted length-(2**m) sequences in A\n",
        "    P = np.zeros((M,N), dtype=int) \n",
        "    \n",
        "    # rank (0, 1, etc.) of sorted length-(2**m) sequences after sorting\n",
        "    Q = np.zeros((M,N), dtype=int)     \n",
        "    \n",
        "    # rank of sorted length-(2**m) sequences at its starting position in A;\n",
        "    # padded by 0 on the right\n",
        "    R = np.zeros((M,3*N), dtype=int) \n",
        "\n",
        "    for k in range(M):\n",
        "        if k == 0:\n",
        "            P[0] = np.argsort(A)\n",
        "            Q[0][1:] = np.cumsum(A[P[0]][1:] != A[P[0]][:-1])\n",
        "            R[0][:N] = Q[0][invPerm(P[0])]\n",
        "        else:\n",
        "            offset = 2**(k-1)\n",
        "            r = np.lexsort((R[k-1, P[k-1]+offset], R[k-1, P[k-1]]))\n",
        "            P[k] = P[k-1][r]\n",
        "            # k'th rank increases iff (k-1)'th rank increases at least for one element of the pair    \n",
        "            Q[k][1:] = np.cumsum(np.logical_or(R[k-1][P[k]][1:] != R[k-1][P[k]][:-1], \n",
        "                                          R[k-1][P[k]+offset][1:] != R[k-1][P[k]+offset][:-1]))\n",
        "            R[k][:N] = Q[k][invPerm(P[k])]\n",
        "            \n",
        "            # early stopping if suffixes already fully sorted (max rank is N-1)\n",
        "            if Q[k][-1] == N-1: \n",
        "                break\n",
        "    \n",
        "    SA = P[k]\n",
        "    return SA, P[:k+1], Q[:k+1], R[:k+1] \n",
        "\n",
        "\n",
        "\n",
        "def getLCP(SA, R):\n",
        "    (M, N) = R.shape\n",
        "    LCP = np.zeros((len(SA)-1,),dtype=int)\n",
        "    for m in range(M-1)[::-1]:\n",
        "        t = (R[m][SA[1:]+LCP] == R[m][SA[:-1]+LCP]).astype(int)\n",
        "        LCP += (2**m)*t\n",
        "    return LCP\n",
        "\n",
        "def getNumString(A):\n",
        "    N = len(A)\n",
        "    SA, _, _, R = getSA(A)\n",
        "    LCP = getLCP(SA, R)\n",
        "    return int(N*(N-1)/2 - sum(LCP) )\n",
        "def main():\n",
        "  n = int(input())\n",
        "  for i in range(n):\n",
        "    string = input()\n",
        "    string += '$'\n",
        "    print(getNumString(string))\n",
        "\n",
        "\n",
        "if __name__ == '__main__':\n",
        "    main()          "
      ],
      "execution_count": 40,
      "outputs": [
        {
          "output_type": "stream",
          "name": "stdout",
          "text": [
            "2\n",
            "ccccc\n",
            "5\n",
            "ABABA\n",
            "9\n"
          ]
        }
      ]
    },
    {
      "cell_type": "code",
      "metadata": {
        "colab": {
          "base_uri": "https://localhost:8080/"
        },
        "id": "SW9AwVZKCb_R",
        "outputId": "aa23eaec-c31c-4f63-e3be-0b246bb66a65"
      },
      "source": [
        "getNumString('CCCCC$')"
      ],
      "execution_count": 38,
      "outputs": [
        {
          "output_type": "execute_result",
          "data": {
            "text/plain": [
              "11"
            ]
          },
          "metadata": {},
          "execution_count": 38
        }
      ]
    },
    {
      "cell_type": "code",
      "metadata": {
        "id": "BlLQSF9UC89x"
      },
      "source": [
        "A = 'CCCCC$'\n",
        "N = len(A)"
      ],
      "execution_count": 34,
      "outputs": []
    },
    {
      "cell_type": "code",
      "metadata": {
        "id": "ov2Z7aJ0EGJC"
      },
      "source": [
        "SA, _, _, R = getSA(A)\n",
        "LCP = getLCP(SA, R)\n"
      ],
      "execution_count": 35,
      "outputs": []
    },
    {
      "cell_type": "code",
      "metadata": {
        "colab": {
          "base_uri": "https://localhost:8080/"
        },
        "id": "h6Pp3gFMEN1j",
        "outputId": "3a3d4699-9529-4e90-fb83-f6834b9b7d13"
      },
      "source": [
        "LCP"
      ],
      "execution_count": 36,
      "outputs": [
        {
          "output_type": "execute_result",
          "data": {
            "text/plain": [
              "array([0, 1, 2, 3, 4])"
            ]
          },
          "metadata": {},
          "execution_count": 36
        }
      ]
    },
    {
      "cell_type": "code",
      "metadata": {
        "colab": {
          "base_uri": "https://localhost:8080/"
        },
        "id": "fmHOTAQrJjuW",
        "outputId": "23a48d3c-6c1c-46a0-8e18-189ead15f9f8"
      },
      "source": [
        "print ('Sorted suffixes:')\n",
        "for n in range(len(A)):\n",
        "    print (A[SA[n]:])"
      ],
      "execution_count": 37,
      "outputs": [
        {
          "output_type": "stream",
          "name": "stdout",
          "text": [
            "Sorted suffixes:\n",
            "$\n",
            "C$\n",
            "CC$\n",
            "CCC$\n",
            "CCCC$\n",
            "CCCCC$\n"
          ]
        }
      ]
    },
    {
      "cell_type": "code",
      "metadata": {
        "colab": {
          "base_uri": "https://localhost:8080/"
        },
        "id": "aRiH8dklJmVl",
        "outputId": "ce3d083e-e99f-4a1c-bd35-47eb4403acf8"
      },
      "source": [
        "5*2 - "
      ],
      "execution_count": 29,
      "outputs": [
        {
          "output_type": "execute_result",
          "data": {
            "text/plain": [
              "array([[0, 0, 0, 0, 0, 0, 0, 0, 0, 0, 0, 0, 0, 0, 0],\n",
              "       [0, 0, 0, 0, 0, 0, 0, 0, 0, 0, 0, 0, 0, 0, 0],\n",
              "       [0, 0, 0, 0, 0, 0, 0, 0, 0, 0, 0, 0, 0, 0, 0],\n",
              "       [0, 0, 0, 0, 0, 0, 0, 0, 0, 0, 0, 0, 0, 0, 0]])"
            ]
          },
          "metadata": {},
          "execution_count": 29
        }
      ]
    },
    {
      "cell_type": "code",
      "metadata": {
        "id": "byrJOWR8Jn4h"
      },
      "source": [
        ""
      ],
      "execution_count": null,
      "outputs": []
    }
  ]
}