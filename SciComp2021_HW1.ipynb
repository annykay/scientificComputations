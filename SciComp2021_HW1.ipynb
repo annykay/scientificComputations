{
  "nbformat": 4,
  "nbformat_minor": 0,
  "metadata": {
    "kernelspec": {
      "display_name": "Python 3",
      "language": "python",
      "name": "python3"
    },
    "language_info": {
      "codemirror_mode": {
        "name": "ipython",
        "version": 3
      },
      "file_extension": ".py",
      "mimetype": "text/x-python",
      "name": "python",
      "nbconvert_exporter": "python",
      "pygments_lexer": "ipython3",
      "version": "3.7.3"
    },
    "colab": {
      "name": "SciComp2021_HW1.ipynb",
      "provenance": [],
      "collapsed_sections": [],
      "include_colab_link": true
    }
  },
  "cells": [
    {
      "cell_type": "markdown",
      "metadata": {
        "id": "view-in-github",
        "colab_type": "text"
      },
      "source": [
        "<a href=\"https://colab.research.google.com/github/annykay/scientificComputations/blob/main/SciComp2021_HW1.ipynb\" target=\"_parent\"><img src=\"https://colab.research.google.com/assets/colab-badge.svg\" alt=\"Open In Colab\"/></a>"
      ]
    },
    {
      "cell_type": "markdown",
      "metadata": {
        "id": "O5DIRljFBbll"
      },
      "source": [
        "## Scientific Computing 2021: Homework Assignment 1 \n",
        "Due Monday October 11, 2021, 23:59\n",
        "\n",
        "### Problem 1 (2 points)\n",
        "Under assumptions of Amdahl's law, suppose that 75% of a program are perfectly parallelizable, and the rest is not parallelizable. \n",
        "1. What is the maximum speedup achievable by parallelization? \n",
        "2. Suppose that we have obtained speedup 2 (by using a suitable number of processes). What is the efficiency of this parallelization?\n",
        "\n",
        "**Problem 1, solution**\n",
        "\n",
        "1) The maximun  speedup, that could be achieved is 4 times, due to Amdahl's law. We have 0.75 part of code that can be parallelized, so the speedup = $\\frac{1}{1-0.75} = 4$\n",
        "\n",
        "2) speedup = $\\frac{1}{(\\alpha + \\frac{1 - \\alpha}{p})}$\n",
        "\n",
        "speedup = 2;\n",
        "\n",
        "$\\alpha = 0.75$ \n",
        "\n",
        "=> p = 3\n",
        "\n",
        "efficacy = 2/3\n",
        "\n"
      ]
    },
    {
      "cell_type": "markdown",
      "metadata": {
        "id": "6cePQyzfKEpA"
      },
      "source": [
        "\n",
        "### Problem 2 (2 points)\n",
        "Write a Python or C/C++ program that uses **MPI reduce** to find the largest file in terms of the  number of lines among all .txt files in the working directory (only .txt files should be examined). The program must be callable in the form `mpirun -np <N> python linecount.py` (in the case of the Python version) or `mpirun -np <N> linecount.exe` (the C/C++ version), where `<N>` is the user-defined number of processes. The program is expected to first somehow distribute the files found in the current directory to the processes, then each process should count the lines in the files assigned to it, and finally the result should be MPI-reduced and printed out. The program only needs to output the number of lines in the largest file; no need to output the name of this file. The program must work correctly even if the number of files is not divisible by the number of processes.\n",
        "\n",
        "**Problem 2, solution**\n",
        "\n",
        "See the solution in the file prog.py. The program can be executed by the command `mpirun -n <N> python prog.py`, where `<N>` - is the number of processes "
      ]
    },
    {
      "cell_type": "code",
      "metadata": {
        "colab": {
          "base_uri": "https://localhost:8080/"
        },
        "id": "U2kPchXUDxHW",
        "outputId": "9b4933ac-16b1-4376-d235-d6513f480e64"
      },
      "source": [
        "import numpy as np\n",
        "\n",
        "def invPerm(p):\n",
        "    '''Invert the permutation p'''\n",
        "    s = np.empty(p.size, p.dtype)\n",
        "    s[p] = np.arange(p.size)\n",
        "    return s\n",
        "\n",
        "\n",
        "def getSA(A):\n",
        "    if not type(A) is np.ndarray:\n",
        "        A = np.array(list(A))\n",
        "    N = len(A) \n",
        "    M = int(np.ceil(np.log2(N)))+1   # number of iterations\n",
        "    \n",
        "    # auxiliary arrays; row m stores results after m'th step:\n",
        "    \n",
        "    # positions of sorted length-(2**m) sequences in A\n",
        "    P = np.zeros((M,N), dtype=int) \n",
        "    \n",
        "    # rank (0, 1, etc.) of sorted length-(2**m) sequences after sorting\n",
        "    Q = np.zeros((M,N), dtype=int)     \n",
        "    \n",
        "    # rank of sorted length-(2**m) sequences at its starting position in A;\n",
        "    # padded by 0 on the right\n",
        "    R = np.zeros((M,3*N), dtype=int) \n",
        "\n",
        "    for k in range(M):\n",
        "        if k == 0:\n",
        "            P[0] = np.argsort(A)\n",
        "            Q[0][1:] = np.cumsum(A[P[0]][1:] != A[P[0]][:-1])\n",
        "            R[0][:N] = Q[0][invPerm(P[0])]\n",
        "        else:\n",
        "            offset = 2**(k-1)\n",
        "            r = np.lexsort((R[k-1, P[k-1]+offset], R[k-1, P[k-1]]))\n",
        "            P[k] = P[k-1][r]\n",
        "            # k'th rank increases iff (k-1)'th rank increases at least for one element of the pair    \n",
        "            Q[k][1:] = np.cumsum(np.logical_or(R[k-1][P[k]][1:] != R[k-1][P[k]][:-1], \n",
        "                                          R[k-1][P[k]+offset][1:] != R[k-1][P[k]+offset][:-1]))\n",
        "            R[k][:N] = Q[k][invPerm(P[k])]\n",
        "            \n",
        "            # early stopping if suffixes already fully sorted (max rank is N-1)\n",
        "            if Q[k][-1] == N-1: \n",
        "                break\n",
        "    \n",
        "    SA = P[k]\n",
        "    return SA, P[:k+1], Q[:k+1], R[:k+1] \n",
        "\n",
        "\n",
        "\n",
        "def getLCP(SA, R):\n",
        "    (M, N) = R.shape\n",
        "    LCP = np.zeros((len(SA)-1,),dtype=int)\n",
        "    for m in range(M-1)[::-1]:\n",
        "        t = (R[m][SA[1:]+LCP] == R[m][SA[:-1]+LCP]).astype(int)\n",
        "        LCP += (2**m)*t\n",
        "    return LCP\n",
        "\n",
        "def getNumString(A):\n",
        "    N = len(A)\n",
        "    SA, _, _, R = getSA(A)\n",
        "    LCP = getLCP(SA, R)\n",
        "    return int(N*(N-1)/2 - sum(LCP) )\n",
        "\n",
        "\n",
        "def main():\n",
        "  n = int(input())\n",
        "  for i in range(n):\n",
        "    string = input()\n",
        "    string += '$'\n",
        "    print(getNumString(string))\n",
        "\n",
        "\n",
        "if __name__ == '__main__':\n",
        "    main()          "
      ],
      "execution_count": null,
      "outputs": [
        {
          "output_type": "stream",
          "name": "stdout",
          "text": [
            "2\n",
            "ccccc\n",
            "5\n",
            "ABABA\n",
            "9\n"
          ]
        }
      ]
    },
    {
      "cell_type": "markdown",
      "metadata": {
        "id": "O2Jf5nw8HWDj"
      },
      "source": [
        "### Problem 3 (2 points)\n",
        "Solve the Distinct Substrings problem at Sphere online judge: http://www.spoj.com/problems/DISUBSTR/. Provide code passing the test of the judge. Explain how your code works and theoretically estimate the complexity of the algorithm (as $O(f(N))$, where $f(N)$ is some function of the length of the input string). \n",
        "\n",
        "**Problem 3, solution**\n",
        "\n",
        "Here is the fuction, that solves the third program. The main idea of the program is: if we calculate all unique prefixis of all suffixies of the string, we will find the amount of substrings. So we calculate the suffix array of the input string, then count the overlap of neighboring suffixies(LCP). Each suffix can have L prefixes (L = $length(suffix_i)$), but it has LCP[i] common prefixies with previous one. So we just have to sum lengths of all suffixies and subtract the LCP values(intersactions). \n",
        "\n",
        "Constracting Suffix Array: $O(N\\log^2(N))$\n",
        "\n",
        "Calculating LCP: $O(N\\log(N))$\n",
        "\n",
        "Summation: O(N)\n",
        "\n",
        "As the complexity of the algotythm is determined by its longest part, the total complexity of my code will be $O(N\\log^2(N))$, where N - is the number of a string. If we have M strings, the total comlexity will be $O(M*N\\log^2(N))$"
      ]
    },
    {
      "cell_type": "code",
      "metadata": {
        "colab": {
          "base_uri": "https://localhost:8080/"
        },
        "id": "fAGWaFMMFV52",
        "outputId": "251225ea-517a-4a6d-c156-8004fd9978ad"
      },
      "source": [
        "!pip install mpi4py"
      ],
      "execution_count": null,
      "outputs": [
        {
          "output_type": "stream",
          "name": "stdout",
          "text": [
            "Collecting mpi4py\n",
            "  Downloading mpi4py-3.1.1.tar.gz (2.4 MB)\n",
            "\u001b[K     |████████████████████████████████| 2.4 MB 5.0 MB/s \n",
            "\u001b[?25h  Installing build dependencies ... \u001b[?25l\u001b[?25hdone\n",
            "  Getting requirements to build wheel ... \u001b[?25l\u001b[?25hdone\n",
            "    Preparing wheel metadata ... \u001b[?25l\u001b[?25hdone\n",
            "Building wheels for collected packages: mpi4py\n",
            "  Building wheel for mpi4py (PEP 517) ... \u001b[?25l\u001b[?25hdone\n",
            "  Created wheel for mpi4py: filename=mpi4py-3.1.1-cp37-cp37m-linux_x86_64.whl size=2180584 sha256=d79bfa26fd479411c18287423b565700096e04e71ab8d343abbb9b20d3240fdb\n",
            "  Stored in directory: /root/.cache/pip/wheels/91/be/c0/2b0347be1de5cd8ca9fe67da7ec8c3fe8930fcb6b0df6f2255\n",
            "Successfully built mpi4py\n",
            "Installing collected packages: mpi4py\n",
            "Successfully installed mpi4py-3.1.1\n"
          ]
        }
      ]
    },
    {
      "cell_type": "code",
      "metadata": {
        "colab": {
          "base_uri": "https://localhost:8080/"
        },
        "id": "K2jI0aV-GICr",
        "outputId": "c6d0f303-60df-4740-db2b-46740cf1f7fc"
      },
      "source": [
        "!mpirun --allow-run-as-root -n 7 python prog.py "
      ],
      "execution_count": null,
      "outputs": [
        {
          "output_type": "stream",
          "name": "stdout",
          "text": [
            "Max size: 67\n"
          ]
        }
      ]
    },
    {
      "cell_type": "markdown",
      "metadata": {
        "id": "YZl8SCdu_wVQ"
      },
      "source": [
        "\n",
        "### Problem 4 (2 points)\n",
        "Suppose that we want to distribute $N$ personal projects to $N$ students. Assume that each student $(k)_{k=0}^{N-1}$ has a list of his/her preferences for the projects, expressed as a vector $\\mathbf r_k$ of integer ranks assigned to each project. Ranks vary between 0 and $N-1$ without repetitions, the **lower** the rank the **more preferable** the project. (For example, the first student's ranks are $\\mathbf r_0 = [2,1,0]$, the second's $\\mathbf r_1 = [0,2,1]$ and the third $\\mathbf r_2 = [0,1,2]$). We want to distribute the projects so as to maximize the total preference, i.e., if $n_k$ denotes the project assigned to the $k$'th student, we want to make $f = \\sum_{k=0}^{N-1} \\mathbf r_k[n_k]$ as small as possible. (In the example above the optimal distribution is $n_0=2, n_1=0, n_2=1$, which gives $f=1$).  \n",
        "  * Come up with an algorithm optimizing the distribution and implement it in a Python or C/C++ program. The algorithm should accept the preference vectors and output a recommended distribution $(n_k)_{k=1}^N$. The algorithm need not find the best solution, but is expected to generally produce better solutions than would have been obtained by randomly distributing the projects. The algorithm should be reasonably fast, say run in not more than a few seconds for $N=30$. \n",
        "  * Compare experimentally your algorithm with the trivial algorithm producing a random distribution. To this end, perform $M=1000$ experiments in each of which 1) random preference vectors for $N=30$ students and projects are generated; 2) the objective function $f$ is evaluated for both algorithms. After finishing all the experiments, plot the two respective distributions of the obtained $M$ values of $f$ and compute the mean values of $f$ for both algorithms. \n",
        "\n",
        "**Problem 4, Solution**\n",
        "\n",
        "The idea of the algorythm is easy. Every student can be represented as a vector of ranks for different projects, so all students can be represented as a matrix.\n",
        "\n",
        "After that we can find the \"worst\" project: it will have tha maximum sum of rangs among all students. And we assign this project to the \"best\" student for this project: the one that has the minimum rang for this project. \n",
        "\n",
        "Then we delete the raw and the column of selected project and student respectivly. \n",
        "\n",
        "Then we calculate the sum of rangs of projects for each student, find the \"worst\" student (with maximum sum of ranks), and after that find for him the \"best\" project(with minimum rank). We assign this \"best\" project to the \"worst\" one and delete the raw and the column of selected project and student respectivly. \n",
        "\n",
        "We repeat this algo while we have elements in the matrix. And in the end we have a dictionary for projects and students.\n",
        "\n",
        "The code is shown below. "
      ]
    },
    {
      "cell_type": "code",
      "metadata": {
        "colab": {
          "base_uri": "https://localhost:8080/"
        },
        "id": "IrBIpdGR2kmT",
        "outputId": "3e6ca8cd-d207-44a6-d2d8-e80d6df66932"
      },
      "source": [
        "import numpy as np\n",
        "import random\n",
        "import timeit\n",
        "\n",
        "#read the number of students and projects\n",
        "N = int(input())\n",
        "#generate a random matrix of projects for students\n",
        "projects = [i for i in range(N)]\n",
        "students = np.array([random.sample(projects, N) for i in range(N)])\n",
        "students1 = students"
      ],
      "execution_count": 96,
      "outputs": [
        {
          "name": "stdout",
          "output_type": "stream",
          "text": [
            "30\n"
          ]
        }
      ]
    },
    {
      "cell_type": "code",
      "metadata": {
        "colab": {
          "base_uri": "https://localhost:8080/"
        },
        "id": "qF0lTnmb3p1j",
        "outputId": "c945df95-db14-419e-c49c-073abcd8adff"
      },
      "source": [
        "\n",
        "start = timeit.default_timer()\n",
        "\n",
        "#initial values for supporting elements\n",
        "finalProj = {}\n",
        "keysProj = [i for i in range(N)]\n",
        "#print('keysProj:', keysProj)\n",
        "#valsProj = [i for i in range(N)]\n",
        "keysStud = [i for i in range(N)]\n",
        "#print('keysStud:', keysStud)\n",
        "#valsStud = [i for i in range(N)]\n",
        "\n",
        "\n",
        "while len(students) > 0:\n",
        "  #print('length:', len(students))\n",
        "\n",
        "  #finding the \"worst\" project\n",
        "  sums = np.sum(students, axis = 0)\n",
        "  #print('sums:', sums)\n",
        "  worseProjs = np.where(sums == np.amax(sums))\n",
        "  #print('worseProjs:', worseProjs)\n",
        "  worseProj = random.sample(list(worseProjs[0]), 1)[0]\n",
        "\n",
        "  #find the \"best\" student for this project\n",
        "  #print('worseProj:', worseProj)\n",
        "  bestStudents = np.where( students[:, worseProj] == np.min(students[:, worseProj]))\n",
        "  #print('bestStudents:', bestStudents)\n",
        "  bestStudent = random.sample(list(bestStudents[0]), 1)[0]\n",
        "  #print('bestStudent:', bestStudent)\n",
        "\n",
        "  #delete rows and colums, get right values \n",
        "  keyBestStudent = np.where(keysStud == bestStudent)[0][0]\n",
        "  #print('keyBestStudent:', keyBestStudent)\n",
        "  keyWorstProj = np.where(keysProj== worseProj)[0][0]\n",
        "  #print('keyWorstProj:', keyWorstProj)\n",
        "  finalProj[keyBestStudent] = keyWorstProj\n",
        "  #print('finalProj:', finalProj)\n",
        "  #print(keyBestStudent,keyWorstProj)\n",
        "\n",
        "  students = np.delete(students, (bestStudent), axis=0)\n",
        "  #print('students:', students)\n",
        "  students = np.delete(students, (worseProj), axis=1)\n",
        "  #print('students:', students)\n",
        "\n",
        "  if keysStud[bestStudent] > 0:\n",
        "    keysStud[bestStudent] *= -1\n",
        "  else:\n",
        "    keysStud[bestStudent] = -10000\n",
        "  #print('keysStud:', keysStud)\n",
        "  if keysProj[worseProj] > 0:\n",
        "    keysProj[worseProj]  *= -1\n",
        "  else:\n",
        "    keysProj[worseProj]  = -10000\n",
        "  #print('keysProj:', keysProj)\n",
        "  \n",
        "  for i in range(bestStudent+1, N): \n",
        "    if (keysStud[i]) > 0:\n",
        "      keysStud[i] -= 1\n",
        "  #print('keysStud:', keysStud)\n",
        "  for i in range(worseProj+1, N): \n",
        "    if (keysProj[i] > 0 ):\n",
        "      keysProj[i] -= 1\n",
        "  #print('keysProj:', keysProj)\n",
        "  \n",
        "  #check if number of elements of is not zero\n",
        "  if len(students) > 0:\n",
        "    #find the \"worst\" student \n",
        "    sums = np.sum(students, axis = 1)\n",
        "    #print('sums:', sums)\n",
        "    worseStudents = np.where(sums == np.amax(sums))\n",
        "    #print('worseStudents:', worseStudents)\n",
        "    worseStudent = random.sample(list(worseStudents[0]), 1)[0]\n",
        "    #print('worseStudent:', worseStudent)\n",
        "\n",
        "    #finding the \"best project for him\"\n",
        "    bestProjs = np.where( students[:, worseStudent] == np.min(students[:, worseStudent]))\n",
        "    #print('bestProjs:', bestProjs)\n",
        "    bestProj = random.sample(list(bestProjs[0]), 1)[0]\n",
        "    #print('bestProj:', bestProj)\n",
        "\n",
        "    #delete row, column and change keys\n",
        "    keyBestProj = np.where(keysProj == bestProj)[0][0]\n",
        "    #print('keyBestProj:', keyBestProj)\n",
        "    keyWorstStudent = np.where(keysStud == worseStudent)[0][0]\n",
        "    #print('keyWorstStudent:', keyWorstStudent)\n",
        "    finalProj[keyWorstStudent] = keyBestProj\n",
        "    students = np.delete(students, (worseStudent), axis=0)\n",
        "    #print('students:', students)\n",
        "    students = np.delete(students, (bestProj), axis=1)\n",
        "    #print('students:', students)\n",
        "\n",
        "\n",
        "    if keysStud[worseStudent] > 0:\n",
        "      keysStud[worseStudent] *= -1\n",
        "    else:\n",
        "      keysStud[worseStudent] = -10000\n",
        "    #print('keysStud:', keysStud)\n",
        "    if keysProj[bestProj] > 0:\n",
        "      keysProj[bestProj]  *= -1\n",
        "    else:\n",
        "      keysProj[bestProj]  = -10000\n",
        "    #print('keysProj:', keysProj)\n",
        "\n",
        "    for i in range(worseStudent+1, N): \n",
        "      if (keysStud[i]) > 0:\n",
        "        keysStud[i] -= 1\n",
        "    #print('keysStud:', keysStud)\n",
        "    for i in range(bestProj+1, N): \n",
        "      if (keysProj[i] > 0 ):\n",
        "        keysProj[i] -= 1\n",
        "    #print('keysProj:', keysProj)\n",
        "\n",
        "#find the last pair student:project\n",
        "for i in range(N):\n",
        "  if i not in finalProj.keys():\n",
        "    lastStudent = i\n",
        "    break\n",
        "for i in range(N):\n",
        "  if i not in finalProj.values():\n",
        "    lastProj = i\n",
        "    break\n",
        "finalProj[lastStudent] = lastProj\n",
        "\n",
        "\n",
        "stop = timeit.default_timer()\n",
        "\n",
        "print('Time of the algorythm: ', stop - start, 's')  "
      ],
      "execution_count": 97,
      "outputs": [
        {
          "output_type": "stream",
          "name": "stdout",
          "text": [
            "Time:  0.003531199999997625\n"
          ]
        }
      ]
    },
    {
      "cell_type": "markdown",
      "metadata": {
        "id": "RwMK5c-qF52G"
      },
      "source": [
        "Here you can see, that the time of the execution for N=3 is not more than a second, so the algo is quite fast"
      ]
    },
    {
      "cell_type": "code",
      "metadata": {
        "id": "QEOHCgPsx6Dy"
      },
      "source": [
        "result = 0\n",
        "for (i,j) in finalProj.items():\n",
        "  result += students1[i][j]\n",
        "print('The sum of ranks of assigned projects:', result)"
      ],
      "execution_count": 98,
      "outputs": []
    },
    {
      "cell_type": "code",
      "metadata": {
        "colab": {
          "base_uri": "https://localhost:8080/"
        },
        "id": "lHnBTrln2_cS",
        "outputId": "462cbebb-ef35-4928-9c4c-7cc6b1e9f750"
      },
      "source": [
        "#check with random values\n",
        "\n",
        "#generate random values\n",
        "M = 30\n",
        "randomProj = [random.sample(projects, N) for i in range(M)]\n",
        "\n",
        "resultsRand = [0 for j in range(M)]\n",
        "\n",
        "#calculate the sum of ranks of randomly assigned projects\n",
        "for j in range(M):\n",
        "  for i in range(N):\n",
        "    resultsRand[j]+= students1[i][randomProj[i][j]]\n",
        "\n",
        "#compare it with the result of algo\n",
        "\n",
        "print('Cases where random distribution is better:', sum(resultsRand < result))"
      ],
      "execution_count": 99,
      "outputs": [
        {
          "output_type": "execute_result",
          "data": {
            "text/plain": [
              "228"
            ]
          },
          "metadata": {},
          "execution_count": 99
        }
      ]
    },
    {
      "cell_type": "markdown",
      "metadata": {
        "id": "-82lTa6O2KHz"
      },
      "source": [
        "  \n",
        "### Problem 5 (2 points)\n",
        "Suppose that we have developed an algorithm that is supposed to generate independent (quasi-)random numbers uniformly distributed in the interval $[0,1]$. To test our algorithm, we perform a series of experiments. In each experiment, we generate $N=10^3$ numbers $(x_n)_{n=1}^N$ with our algorithm, and compute the minimum distance $r=\\min_{1 \\le n < m\\le N}|x_n-x_m|$ between them. We observe that in more than 99% of such experiments we obtain $r < 10^{-5}$. Does this observation contradict the hypothesis of generating independent uniformly distributed random numbers? Explain your answer.\n",
        "\n",
        "**Task 5**\n",
        "\n",
        "Let's calculate the probability of such an event:\n",
        "\n",
        "$P(\\min|\\xi_i - \\zeta_j| < r; i = \\overline{1,n}; j = \\overline{1,n}) = 1 - P(\\min|\\xi_i -\\zeta_j| \\geq r) = [|\\xi_i - \\zeta_j| = \\phi_k; k = \\overline{1, N = \\frac{n(n-1)}{2}}] = 1 - P(min (\\phi_k) \\geq r) = 1 -  \\prod_{k=1}^{N} P(\\phi_k \\geq r) = 1 - (1 - P(\\phi_k < r ))^N = [P(\\phi_k < r ) = \\Phi(r)] = 1 - (1 - \\Phi(r)))^N $\n",
        "\n",
        "Now let's estimate $\\Phi(r)$ using the geometry probability. \n",
        "\n",
        "$|\\xi_i - \\zeta_j| < x $\n",
        "\n",
        "$ - x <\\xi_i - \\zeta_j < x$\n",
        "\n",
        "$ - x + \\zeta_j<\\xi_i  < x + \\zeta_j$\n",
        "\n",
        "As we know that $\\zeta_j, \\xi_i$ lie in thhe interval [0,1], we can estimate the $\\Phi(x)$ as a square of intersation of a unit quadrate and lines  $\\xi_i = - x + \\zeta_j; \\xi_i= x + \\zeta_j$. It will be:\n",
        "\n",
        "\n",
        "\\begin{equation*}\n",
        " \\Phi(x) =\n",
        " \\begin{cases}\n",
        "   0, x \\leq 0  \n",
        "   \\\\\n",
        "   1 - \\frac{2*(1-x)^2}{2} = 2x - x^2 , 0 < x < 1\n",
        "   \\\\\n",
        "   1, x \\geq 1\n",
        " \\end{cases}\n",
        "\\end{equation*}\n",
        "\n",
        "add it to our previous results: \n",
        "$1 - (1 - \\Phi(r)))^N = 1 - (1 - 2r + r^2)^N = 1 - (1 - r)^{2N} = 1 - (1 - 10^{-5})^{10^6} = [python] \\approx 0.9999546023401903  $ \n",
        "\n",
        "And that is actually what we see in our simmulation, so everything is okey with the generator. \n",
        "\n",
        "\n",
        "ADD A PICTURE \n"
      ]
    },
    {
      "cell_type": "code",
      "metadata": {
        "colab": {
          "base_uri": "https://localhost:8080/"
        },
        "id": "vvkEfcIw2Oqf",
        "outputId": "e7f78c01-d713-467e-8afb-cac26fb4dd74"
      },
      "source": [
        "1 - (1-10**(-5))**(1000*1000)\n"
      ],
      "execution_count": null,
      "outputs": [
        {
          "output_type": "execute_result",
          "data": {
            "text/plain": [
              "0.9999546023401903"
            ]
          },
          "metadata": {},
          "execution_count": 7
        }
      ]
    },
    {
      "cell_type": "code",
      "metadata": {
        "id": "p2gI96mgTGkV"
      },
      "source": [
        ""
      ],
      "execution_count": null,
      "outputs": []
    }
  ]
}